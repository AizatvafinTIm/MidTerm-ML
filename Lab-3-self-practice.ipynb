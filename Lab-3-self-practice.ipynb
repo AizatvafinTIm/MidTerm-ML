{
 "cells": [
  {
   "cell_type": "markdown",
   "metadata": {},
   "source": [
    "### Lab-3 : Self-Practice\n",
    "\n",
    "#### In this week, your self-practice task will consist to analyze the impact of class imballance on the performance of the logistic regression model.\n",
    "\n",
    "#### Class imbalance is very common in real life. For example, in a classification problem to predict whether a person has a certain very rare disease, the dataset will always contain more negative samples than positive ones. This situation can have a significant impact on the performance of the model. You will analyze this situation in the case of the Titanic dataset used in the lab."
   ]
  },
  {
   "cell_type": "markdown",
   "metadata": {},
   "source": [
    "### 1. Load the titanic dataset and <b>PLOT</b> the proportion of positive and negative samples (survived vs non survived)"
   ]
  },
  {
   "cell_type": "code",
   "execution_count": 76,
   "metadata": {},
   "outputs": [
    {
     "name": "stdout",
     "output_type": "stream",
     "text": [
      "      survived  pclass     sex    age  sibsp  parch      fare embarked\n",
      "0            1       1  female  29.00      0      0  211.3375        S\n",
      "1            1       1    male   0.92      1      2  151.5500        S\n",
      "2            0       1  female   2.00      1      2  151.5500        S\n",
      "3            0       1    male  30.00      1      2  151.5500        S\n",
      "4            0       1  female  25.00      1      2  151.5500        S\n",
      "...        ...     ...     ...    ...    ...    ...       ...      ...\n",
      "1304         0       3  female  14.50      1      0   14.4542        C\n",
      "1305         0       3  female    NaN      1      0   14.4542        C\n",
      "1306         0       3    male  26.50      0      0    7.2250        C\n",
      "1307         0       3    male  27.00      0      0    7.2250        C\n",
      "1308         0       3    male  29.00      0      0    7.8750        S\n",
      "\n",
      "[1309 rows x 8 columns]\n"
     ]
    },
    {
     "name": "stderr",
     "output_type": "stream",
     "text": [
      "/usr/local/lib/python3.10/dist-packages/seaborn/categorical.py:470: FutureWarning: iteritems is deprecated and will be removed in a future version. Use .items instead.\n",
      "  plot_data = [np.asarray(s, float) for k, s in iter_data]\n"
     ]
    },
    {
     "data": {
      "text/plain": "<AxesSubplot: >"
     },
     "execution_count": 76,
     "metadata": {},
     "output_type": "execute_result"
    },
    {
     "data": {
      "text/plain": "<Figure size 640x480 with 1 Axes>",
      "image/png": "[encoded data removed]"
     },
     "metadata": {},
     "output_type": "display_data"
    }
   ],
   "source": [
    "### write your code here. Load the dataset and plot (barplot) proportion of each class\n",
    "import pandas as pd\n",
    "import seaborn\n",
    "titanic_data = pd.read_csv('titanic.csv')\n",
    "titanic_data.shape\n",
    "titanic_data = titanic_data.drop(['name'], axis = 1)\n",
    "print(titanic_data)\n",
    "seaborn.barplot(titanic_data)"
   ]
  },
  {
   "cell_type": "code",
   "execution_count": 77,
   "outputs": [
    {
     "name": "stdout",
     "output_type": "stream",
     "text": [
      "% of positive samples in whole data: 38.19709702062643\n",
      "% of positive samples in train set: 38.2043935052531\n",
      "% of positive samples in test set: 38.16793893129771\n"
     ]
    }
   ],
   "source": [
    "\n",
    "X, y = titanic_data.loc[:, 'pclass':], titanic_data.loc[:, 'survived']\n"
   ],
   "metadata": {
    "collapsed": false
   }
  },
  {
   "cell_type": "markdown",
   "metadata": {},
   "source": [
    "#### Preprocess the data as it has been done in the lab, feel free to adapt"
   ]
  },
  {
   "cell_type": "code",
   "execution_count": 78,
   "metadata": {},
   "outputs": [
    {
     "name": "stderr",
     "output_type": "stream",
     "text": [
      "/usr/local/lib/python3.10/dist-packages/sklearn/utils/deprecation.py:87: FutureWarning: Function get_feature_names is deprecated; get_feature_names is deprecated in 1.0 and will be removed in 1.2. Please use get_feature_names_out instead.\n",
      "  warnings.warn(msg, category=FutureWarning)\n",
      "/usr/local/lib/python3.10/dist-packages/sklearn/utils/deprecation.py:87: FutureWarning: Function get_feature_names is deprecated; get_feature_names is deprecated in 1.0 and will be removed in 1.2. Please use get_feature_names_out instead.\n",
      "  warnings.warn(msg, category=FutureWarning)\n"
     ]
    }
   ],
   "source": [
    "#### preprocess the data\n",
    "from sklearn.impute import SimpleImputer\n",
    "from sklearn.preprocessing import OneHotEncoder\n",
    "from sklearn.preprocessing import MinMaxScaler\n",
    "\n",
    "# imputing missing values\n",
    "imputer = SimpleImputer(strategy='most_frequent')\n",
    "imputer.fit(X)\n",
    "X = pd.DataFrame(imputer.transform(X), columns=X.columns)\n",
    "\n",
    "\n",
    "# one-hot-encode categorical features\n",
    "def ohe_new_features(df, features_name, encoder):\n",
    "    new_feats = encoder.transform(df[features_name])\n",
    "    # create dataframe from encoded features with named columns\n",
    "    new_cols = pd.DataFrame(new_feats, dtype=int, columns=encoder.get_feature_names(features_name))\n",
    "    new_df = pd.concat([df, new_cols], axis=1)\n",
    "    new_df.drop(features_name, axis=1, inplace=True)\n",
    "    return new_df\n",
    "\n",
    "encoder = OneHotEncoder(sparse=False, drop='first')\n",
    "f_names = ['sex', 'embarked']\n",
    "encoder.fit(X[f_names])\n",
    "X = ohe_new_features(X, f_names, encoder)\n",
    "\n",
    "\n",
    "# feature scaling\n",
    "scaler = MinMaxScaler()\n",
    "scaler.fit(X)\n",
    "X = pd.DataFrame(scaler.transform(X), columns=X.columns)"
   ]
  },
  {
   "cell_type": "markdown",
   "metadata": {},
   "source": [
    "## 2. Impact of class imballance. \n",
    "##### Now, you will `artificially` imbalance the dataset. From the original dataset, create different dataset with the following class representations (drop samples from one class): \n",
    "##### 1. 20% vs 80%\n",
    "##### 2. 30% vs 70%\n",
    "##### 3. 40% vs 60%\n",
    "\n",
    "## Split each data into train and test set as in the lab; train logistic regression model for each setting and report (PLOT) the accuracy, precision, and recall of each model"
   ]
  },
  {
   "cell_type": "code",
   "execution_count": 81,
   "metadata": {},
   "outputs": [
    {
     "data": {
      "text/plain": "      pclass       age  sibsp     parch      fare  sex_male  embarked_Q  \\\n0        1.0  0.210823  0.000  0.000000  0.015412       1.0         0.0   \n1        0.0  0.436302  0.000  0.000000  0.264739       0.0         0.0   \n2        1.0  0.336089  0.000  0.000000  0.016908       1.0         0.0   \n3        0.5  0.624201  0.000  0.000000  0.025374       1.0         0.0   \n4        0.0  0.298509  0.125  0.000000  0.101497       0.0         0.0   \n...      ...       ...    ...       ...       ...       ...         ...   \n1042     0.5  0.373669  0.000  0.000000  0.025374       0.0         0.0   \n1043     1.0  0.311036  0.125  0.000000  0.015469       0.0         0.0   \n1044     0.0  0.298509  0.000  0.000000  0.000000       1.0         0.0   \n1045     0.0  0.298509  0.000  0.000000  0.051822       1.0         0.0   \n1046     1.0  0.110610  0.125  0.111111  0.031035       1.0         0.0   \n\n      embarked_S  \n0            1.0  \n1            1.0  \n2            1.0  \n3            1.0  \n4            1.0  \n...          ...  \n1042         1.0  \n1043         1.0  \n1044         1.0  \n1045         1.0  \n1046         1.0  \n\n[1047 rows x 8 columns]",
      "text/html": "<div>\n<style scoped>\n    .dataframe tbody tr th:only-of-type {\n        vertical-align: middle;\n    }\n\n    .dataframe tbody tr th {\n        vertical-align: top;\n    }\n\n    .dataframe thead th {\n        text-align: right;\n    }\n</style>\n<table border=\"1\" class=\"dataframe\">\n  <thead>\n    <tr style=\"text-align: right;\">\n      <th></th>\n      <th>pclass</th>\n      <th>age</th>\n      <th>sibsp</th>\n      <th>parch</th>\n      <th>fare</th>\n      <th>sex_male</th>\n      <th>embarked_Q</th>\n      <th>embarked_S</th>\n    </tr>\n  </thead>\n  <tbody>\n    <tr>\n      <th>0</th>\n      <td>1.0</td>\n      <td>0.210823</td>\n      <td>0.000</td>\n      <td>0.000000</td>\n      <td>0.015412</td>\n      <td>1.0</td>\n      <td>0.0</td>\n      <td>1.0</td>\n    </tr>\n    <tr>\n      <th>1</th>\n      <td>0.0</td>\n      <td>0.436302</td>\n      <td>0.000</td>\n      <td>0.000000</td>\n      <td>0.264739</td>\n      <td>0.0</td>\n      <td>0.0</td>\n      <td>1.0</td>\n    </tr>\n    <tr>\n      <th>2</th>\n      <td>1.0</td>\n      <td>0.336089</td>\n      <td>0.000</td>\n      <td>0.000000</td>\n      <td>0.016908</td>\n      <td>1.0</td>\n      <td>0.0</td>\n      <td>1.0</td>\n    </tr>\n    <tr>\n      <th>3</th>\n      <td>0.5</td>\n      <td>0.624201</td>\n      <td>0.000</td>\n      <td>0.000000</td>\n      <td>0.025374</td>\n      <td>1.0</td>\n      <td>0.0</td>\n      <td>1.0</td>\n    </tr>\n    <tr>\n      <th>4</th>\n      <td>0.0</td>\n      <td>0.298509</td>\n      <td>0.125</td>\n      <td>0.000000</td>\n      <td>0.101497</td>\n      <td>0.0</td>\n      <td>0.0</td>\n      <td>1.0</td>\n    </tr>\n    <tr>\n      <th>...</th>\n      <td>...</td>\n      <td>...</td>\n      <td>...</td>\n      <td>...</td>\n      <td>...</td>\n      <td>...</td>\n      <td>...</td>\n      <td>...</td>\n    </tr>\n    <tr>\n      <th>1042</th>\n      <td>0.5</td>\n      <td>0.373669</td>\n      <td>0.000</td>\n      <td>0.000000</td>\n      <td>0.025374</td>\n      <td>0.0</td>\n      <td>0.0</td>\n      <td>1.0</td>\n    </tr>\n    <tr>\n      <th>1043</th>\n      <td>1.0</td>\n      <td>0.311036</td>\n      <td>0.125</td>\n      <td>0.000000</td>\n      <td>0.015469</td>\n      <td>0.0</td>\n      <td>0.0</td>\n      <td>1.0</td>\n    </tr>\n    <tr>\n      <th>1044</th>\n      <td>0.0</td>\n      <td>0.298509</td>\n      <td>0.000</td>\n      <td>0.000000</td>\n      <td>0.000000</td>\n      <td>1.0</td>\n      <td>0.0</td>\n      <td>1.0</td>\n    </tr>\n    <tr>\n      <th>1045</th>\n      <td>0.0</td>\n      <td>0.298509</td>\n      <td>0.000</td>\n      <td>0.000000</td>\n      <td>0.051822</td>\n      <td>1.0</td>\n      <td>0.0</td>\n      <td>1.0</td>\n    </tr>\n    <tr>\n      <th>1046</th>\n      <td>1.0</td>\n      <td>0.110610</td>\n      <td>0.125</td>\n      <td>0.111111</td>\n      <td>0.031035</td>\n      <td>1.0</td>\n      <td>0.0</td>\n      <td>1.0</td>\n    </tr>\n  </tbody>\n</table>\n<p>1047 rows × 8 columns</p>\n</div>"
     },
     "execution_count": 81,
     "metadata": {},
     "output_type": "execute_result"
    }
   ],
   "source": [
    "### write your code here\n"
   ]
  },
  {
   "cell_type": "markdown",
   "metadata": {},
   "source": [
    "## 3. Analyse the class-wise accuracy. \n",
    "#### For each model, plot (bar plots) the class-wise accuracy, i.e., the accuracy for each class."
   ]
  },
  {
   "cell_type": "code",
   "execution_count": 80,
   "metadata": {},
   "outputs": [],
   "source": [
    "#### write your code "
   ]
  },
  {
   "cell_type": "markdown",
   "metadata": {},
   "source": [
    "## 4. Report \n",
    "### Write a small report (few sentences) to discuss from your analysis, the impact of class imballance on logistic model's performance "
   ]
  },
  {
   "cell_type": "markdown",
   "metadata": {},
   "source": [
    "`Write your report here`"
   ]
  }
 ],
 "metadata": {
  "kernelspec": {
   "display_name": "Python 3.9.7 64-bit",
   "language": "python",
   "name": "python3"
  },
  "language_info": {
   "codemirror_mode": {
    "name": "ipython",
    "version": 3
   },
   "file_extension": ".py",
   "mimetype": "text/x-python",
   "name": "python",
   "nbconvert_exporter": "python",
   "pygments_lexer": "ipython3",
   "version": "3.9.7"
  },
  "orig_nbformat": 4,
  "vscode": {
   "interpreter": {
    "hash": "aee8b7b246df8f9039afb4144a1f6fd8d2ca17a180786b69acc140d282b71a49"
   }
  }
 },
 "nbformat": 4,
 "nbformat_minor": 2
}
