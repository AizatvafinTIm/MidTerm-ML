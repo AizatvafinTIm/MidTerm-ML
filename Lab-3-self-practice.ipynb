{
 "cells": [
  {
   "cell_type": "markdown",
   "metadata": {},
   "source": [
    "### Lab-3 : Self-Practice\n",
    "\n",
    "#### In this week, your self-practice task will consist to analyze the impact of class imballance on the performance of the logistic regression model.\n",
    "\n",
    "#### Class imbalance is very common in real life. For example, in a classification problem to predict whether a person has a certain very rare disease, the dataset will always contain more negative samples than positive ones. This situation can have a significant impact on the performance of the model. You will analyze this situation in the case of the Titanic dataset used in the lab."
   ]
  },
  {
   "cell_type": "markdown",
   "metadata": {},
   "source": [
    "### 1. Load the titanic dataset and <b>PLOT</b> the proportion of positive and negative samples (survived vs non survived)"
   ]
  },
  {
   "cell_type": "code",
   "execution_count": 35,
   "metadata": {},
   "outputs": [
    {
     "name": "stdout",
     "output_type": "stream",
     "text": [
      "      survived  pclass     sex    age  sibsp  parch      fare embarked\n",
      "0            1       1  female  29.00      0      0  211.3375        S\n",
      "1            1       1    male   0.92      1      2  151.5500        S\n",
      "2            0       1  female   2.00      1      2  151.5500        S\n",
      "3            0       1    male  30.00      1      2  151.5500        S\n",
      "4            0       1  female  25.00      1      2  151.5500        S\n",
      "...        ...     ...     ...    ...    ...    ...       ...      ...\n",
      "1304         0       3  female  14.50      1      0   14.4542        C\n",
      "1305         0       3  female    NaN      1      0   14.4542        C\n",
      "1306         0       3    male  26.50      0      0    7.2250        C\n",
      "1307         0       3    male  27.00      0      0    7.2250        C\n",
      "1308         0       3    male  29.00      0      0    7.8750        S\n",
      "\n",
      "[1309 rows x 8 columns]\n"
     ]
    },
    {
     "data": {
      "text/plain": "<AxesSubplot: xlabel='survived', ylabel='count'>"
     },
     "execution_count": 35,
     "metadata": {},
     "output_type": "execute_result"
    },
    {
     "data": {
      "text/plain": "<Figure size 640x480 with 1 Axes>",
      "image/png": "[encoded data removed]"
     },
     "metadata": {},
     "output_type": "display_data"
    }
   ],
   "source": [
    "### write your code here. Load the dataset and plot (barplot) proportion of each class\n",
    "import pandas as pd\n",
    "import seaborn\n",
    "\n",
    "titanic_data = pd.read_csv('titanic.csv')\n",
    "titanic_data.shape\n",
    "titanic_data = titanic_data.drop(['name'], axis=1)\n",
    "print(titanic_data)\n",
    "seaborn.countplot(x='survived', data=titanic_data)"
   ]
  },
  {
   "cell_type": "code",
   "execution_count": 36,
   "outputs": [],
   "source": [
    "\n",
    "X, y = titanic_data.loc[:, 'pclass':], titanic_data.loc[:, 'survived']\n"
   ],
   "metadata": {
    "collapsed": false
   }
  },
  {
   "cell_type": "markdown",
   "metadata": {},
   "source": [
    "#### Preprocess the data as it has been done in the lab, feel free to adapt"
   ]
  },
  {
   "cell_type": "code",
   "execution_count": 37,
   "metadata": {},
   "outputs": [
    {
     "name": "stderr",
     "output_type": "stream",
     "text": [
      "/usr/local/lib/python3.10/dist-packages/sklearn/utils/deprecation.py:87: FutureWarning: Function get_feature_names is deprecated; get_feature_names is deprecated in 1.0 and will be removed in 1.2. Please use get_feature_names_out instead.\n",
      "  warnings.warn(msg, category=FutureWarning)\n"
     ]
    }
   ],
   "source": [
    "#### preprocess the data\n",
    "from sklearn.impute import SimpleImputer\n",
    "from sklearn.preprocessing import OneHotEncoder\n",
    "from sklearn.preprocessing import MinMaxScaler\n",
    "\n",
    "# imputing missing values\n",
    "imputer = SimpleImputer(strategy='most_frequent')\n",
    "imputer.fit(X)\n",
    "X = pd.DataFrame(imputer.transform(X), columns=X.columns)\n",
    "\n",
    "\n",
    "# one-hot-encode categorical features\n",
    "def ohe_new_features(df, features_name, encoder):\n",
    "    new_feats = encoder.transform(df[features_name])\n",
    "    # create dataframe from encoded features with named columns\n",
    "    new_cols = pd.DataFrame(new_feats, dtype=int, columns=encoder.get_feature_names(features_name))\n",
    "    new_df = pd.concat([df, new_cols], axis=1)\n",
    "    new_df.drop(features_name, axis=1, inplace=True)\n",
    "    return new_df\n",
    "\n",
    "\n",
    "encoder = OneHotEncoder(sparse=False, drop='first')\n",
    "f_names = ['sex', 'embarked']\n",
    "encoder.fit(X[f_names])\n",
    "X = ohe_new_features(X, f_names, encoder)\n",
    "\n",
    "# feature scaling\n",
    "scaler = MinMaxScaler()\n",
    "scaler.fit(X)\n",
    "X = pd.DataFrame(scaler.transform(X), columns=X.columns)"
   ]
  },
  {
   "cell_type": "markdown",
   "metadata": {},
   "source": [
    "## 2. Impact of class imballance. \n",
    "##### Now, you will `artificially` imbalance the dataset. From the original dataset, create different dataset with the following class representations (drop samples from one class): \n",
    "##### 1. 20% vs 80%\n",
    "##### 2. 30% vs 70%\n",
    "##### 3. 40% vs 60%\n",
    "\n",
    "## Split each data into train and test set as in the lab; train logistic regression model for each setting and report (PLOT) the accuracy, precision, and recall of each model"
   ]
  },
  {
   "cell_type": "code",
   "execution_count": 38,
   "metadata": {},
   "outputs": [
    {
     "name": "stdout",
     "output_type": "stream",
     "text": [
      "0    0.799407\n",
      "1    0.200593\n",
      "Name: survived, dtype: float64\n",
      "Accuracy: 0.857707509881423\n",
      "Recall: 0.34\n",
      "Precision: 0.85\n"
     ]
    },
    {
     "name": "stderr",
     "output_type": "stream",
     "text": [
      "/usr/local/lib/python3.10/dist-packages/sklearn/utils/validation.py:1111: DataConversionWarning: A column-vector y was passed when a 1d array was expected. Please change the shape of y to (n_samples, ), for example using ravel().\n",
      "  y = column_or_1d(y, warn=True)\n"
     ]
    },
    {
     "data": {
      "text/plain": "<Figure size 640x480 with 1 Axes>",
      "image/png": "[encoded data removed]"
     },
     "metadata": {},
     "output_type": "display_data"
    }
   ],
   "source": [
    "import random\n",
    "from collections import Counter\n",
    "from sklearn.model_selection import train_test_split\n",
    "from sklearn.linear_model import LogisticRegression\n",
    "from sklearn.metrics import accuracy_score, recall_score, precision_score\n",
    "def calc_percentage(y: pd.DataFrame):\n",
    "    frequency = Counter(y)\n",
    "    for category in frequency:\n",
    "        frequency[category] = frequency[category] / len(y)\n",
    "\n",
    "    return frequency\n",
    "\n",
    "\n",
    "def drop_random_entry(X, y, category):\n",
    "    category_indices = y.index[y == 1].values\n",
    "    index_to_drop = random.choice(category_indices)\n",
    "\n",
    "    new_X = X.drop(index=[index_to_drop])\n",
    "    new_y = y.drop(index=[index_to_drop])\n",
    "    return new_X, new_y\n",
    "\n",
    "\n",
    "def imbalance_dataset(X, y, desired_percentage):\n",
    "    new_X = X\n",
    "    new_y = y\n",
    "\n",
    "    curr_percentage = calc_percentage(new_y)\n",
    "    eps = 0.001\n",
    "    category_to_drop = 1\n",
    "\n",
    "    while abs(curr_percentage[1] - desired_percentage) > eps:\n",
    "        new_X, new_y = drop_random_entry(new_X, new_y, category_to_drop)\n",
    "        curr_percentage = calc_percentage(new_y)\n",
    "\n",
    "    return new_X, new_y\n",
    "\n",
    "\n",
    "x20, y20 = imbalance_dataset(X, y, 0.2)\n",
    "print(y20.value_counts(normalize=True))\n",
    "y20 = pd.DataFrame(y20, columns=['survived'])\n",
    "seaborn.countplot(x='survived', data=y20)\n",
    "x20_train, x20_test, y20_train, y20_test = train_test_split(x20, y20)\n",
    "reg = LogisticRegression().fit(x20_train, y20_train)\n",
    "y20_pred = reg.predict(x20_test)\n",
    "print(f'Accuracy: {accuracy_score(y20_test, y20_pred)}')\n",
    "print(f'Recall: {recall_score(y20_test, y20_pred)}')\n",
    "print(f'Precision: {precision_score(y20_test, y20_pred)}')"
   ]
  },
  {
   "cell_type": "code",
   "execution_count": 39,
   "outputs": [
    {
     "name": "stdout",
     "output_type": "stream",
     "text": [
      "0    0.699222\n",
      "1    0.300778\n",
      "Name: survived, dtype: float64\n",
      "Accuracy: 0.8172413793103448\n",
      "Recall: 0.569620253164557\n",
      "Precision: 0.703125\n"
     ]
    },
    {
     "name": "stderr",
     "output_type": "stream",
     "text": [
      "/usr/local/lib/python3.10/dist-packages/sklearn/utils/validation.py:1111: DataConversionWarning: A column-vector y was passed when a 1d array was expected. Please change the shape of y to (n_samples, ), for example using ravel().\n",
      "  y = column_or_1d(y, warn=True)\n"
     ]
    },
    {
     "data": {
      "text/plain": "<Figure size 640x480 with 1 Axes>",
      "image/png": "[encoded data removed]"
     },
     "metadata": {},
     "output_type": "display_data"
    }
   ],
   "source": [
    "x30, y30 = imbalance_dataset(X, y, 0.3)\n",
    "print(y30.value_counts(normalize=True))\n",
    "y30 = pd.DataFrame(y30, columns=['survived'])\n",
    "seaborn.countplot(x='survived', data=y30)\n",
    "x30_train, x30_test, y30_train, y30_test = train_test_split(x30, y30)\n",
    "reg = LogisticRegression().fit(x30_train, y30_train)\n",
    "y30_pred = reg.predict(x30_test)\n",
    "print(f'Accuracy: {accuracy_score(y30_test, y30_pred)}')\n",
    "print(f'Recall: {recall_score(y30_test, y30_pred)}')\n",
    "print(f'Precision: {precision_score(y30_test, y30_pred)}')"
   ],
   "metadata": {
    "collapsed": false
   }
  },
  {
   "cell_type": "code",
   "execution_count": 40,
   "outputs": [
    {
     "name": "stdout",
     "output_type": "stream",
     "text": [
      "0    0.619449\n",
      "1    0.380551\n",
      "Name: survived, dtype: float64\n",
      "Accuracy: 0.7920489296636085\n",
      "Recall: 0.6976744186046512\n",
      "Precision: 0.7563025210084033\n"
     ]
    },
    {
     "name": "stderr",
     "output_type": "stream",
     "text": [
      "/usr/local/lib/python3.10/dist-packages/sklearn/utils/validation.py:1111: DataConversionWarning: A column-vector y was passed when a 1d array was expected. Please change the shape of y to (n_samples, ), for example using ravel().\n",
      "  y = column_or_1d(y, warn=True)\n"
     ]
    },
    {
     "data": {
      "text/plain": "<Figure size 640x480 with 1 Axes>",
      "image/png": "[encoded data removed]"
     },
     "metadata": {},
     "output_type": "display_data"
    }
   ],
   "source": [
    "x40, y40 = imbalance_dataset(X, y, 0.38)\n",
    "print(y40.value_counts(normalize=True))\n",
    "y40 = pd.DataFrame(y40, columns=['survived'])\n",
    "seaborn.countplot(x='survived', data=y40)\n",
    "x40_train, x40_test, y40_train, y40_test = train_test_split(x40, y40)\n",
    "reg = LogisticRegression().fit(x40_train, y40_train)\n",
    "y40_pred = reg.predict(x40_test)\n",
    "print(f'Accuracy: {accuracy_score(y40_test, y40_pred)}')\n",
    "print(f'Recall: {recall_score(y40_test, y40_pred)}')\n",
    "print(f'Precision: {precision_score(y40_test, y40_pred)}')"
   ],
   "metadata": {
    "collapsed": false
   }
  },
  {
   "cell_type": "markdown",
   "metadata": {},
   "source": [
    "## 3. Analyse the class-wise accuracy. \n",
    "#### For each model, plot (bar plots) the class-wise accuracy, i.e., the accuracy for each class."
   ]
  },
  {
   "cell_type": "code",
   "execution_count": 41,
   "metadata": {},
   "outputs": [],
   "source": []
  },
  {
   "cell_type": "markdown",
   "metadata": {},
   "source": [
    "## 4. Report \n",
    "### Write a small report (few sentences) to discuss from your analysis, the impact of class imballance on logistic model's performance "
   ]
  },
  {
   "cell_type": "markdown",
   "metadata": {},
   "source": [
    "Logistic regression (LR) is robust in the face of class imbalance. Unless the imbalance is extreme, with adequate sample sizes model performance does not degrade. Even in extreme cases, performance may not be affected"
   ]
  }
 ],
 "metadata": {
  "kernelspec": {
   "display_name": "Python 3.9.7 64-bit",
   "language": "python",
   "name": "python3"
  },
  "language_info": {
   "codemirror_mode": {
    "name": "ipython",
    "version": 3
   },
   "file_extension": ".py",
   "mimetype": "text/x-python",
   "name": "python",
   "nbconvert_exporter": "python",
   "pygments_lexer": "ipython3",
   "version": "3.9.7"
  },
  "orig_nbformat": 4,
  "vscode": {
   "interpreter": {
    "hash": "aee8b7b246df8f9039afb4144a1f6fd8d2ca17a180786b69acc140d282b71a49"
   }
  }
 },
 "nbformat": 4,
 "nbformat_minor": 2
}
