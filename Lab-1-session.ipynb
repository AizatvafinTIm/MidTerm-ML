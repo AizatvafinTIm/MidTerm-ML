{
 "cells": [
  {
   "cell_type": "markdown",
   "source": [
    "# Lab 1: Crash course on Python\n",
    "Python is a general purpose programming language and one of the most popular\n",
    "programming languages. It is widely used in the scientific community because\n",
    "of its ease of use and simple syntax. Python also offers a large collection of\n",
    "libraries that help to solve complex problems easily and build strong system\n",
    "and data application.\n",
    "\n",
    "[PEP8](https://realpython.com/python-pep8/) is one of the standards that\n",
    "specifies guidelines and best practices on how to write Python code"
   ],
   "metadata": {
    "collapsed": false
   }
  },
  {
   "cell_type": "code",
   "execution_count": 559,
   "outputs": [
    {
     "name": "stdout",
     "output_type": "stream",
     "text": [
      "Defaulting to user installation because normal site-packages is not writeable\r\n",
      "Requirement already satisfied: matplotlib in /home/aiztim02/.local/lib/python3.10/site-packages (3.6.1)\r\n",
      "Requirement already satisfied: pillow>=6.2.0 in /usr/lib/python3/dist-packages (from matplotlib) (9.0.1)\r\n",
      "Requirement already satisfied: fonttools>=4.22.0 in /home/aiztim02/.local/lib/python3.10/site-packages (from matplotlib) (4.37.4)\r\n",
      "Requirement already satisfied: packaging>=20.0 in /usr/local/lib/python3.10/dist-packages (from matplotlib) (21.3)\r\n",
      "Requirement already satisfied: cycler>=0.10 in /home/aiztim02/.local/lib/python3.10/site-packages (from matplotlib) (0.11.0)\r\n",
      "Requirement already satisfied: numpy>=1.19 in /home/aiztim02/.local/lib/python3.10/site-packages (from matplotlib) (1.23.4)\r\n",
      "Requirement already satisfied: python-dateutil>=2.7 in /usr/local/lib/python3.10/dist-packages (from matplotlib) (2.8.2)\r\n",
      "Requirement already satisfied: kiwisolver>=1.0.1 in /home/aiztim02/.local/lib/python3.10/site-packages (from matplotlib) (1.4.4)\r\n",
      "Requirement already satisfied: contourpy>=1.0.1 in /home/aiztim02/.local/lib/python3.10/site-packages (from matplotlib) (1.0.5)\r\n",
      "Requirement already satisfied: pyparsing>=2.2.1 in /usr/lib/python3/dist-packages (from matplotlib) (2.4.7)\r\n",
      "Requirement already satisfied: six>=1.5 in /usr/lib/python3/dist-packages (from python-dateutil>=2.7->matplotlib) (1.16.0)\r\n",
      "Defaulting to user installation because normal site-packages is not writeable\r\n",
      "Requirement already satisfied: pandas in /home/aiztim02/.local/lib/python3.10/site-packages (1.5.0)\r\n",
      "Requirement already satisfied: numpy>=1.21.0 in /home/aiztim02/.local/lib/python3.10/site-packages (from pandas) (1.23.4)\r\n",
      "Requirement already satisfied: pytz>=2020.1 in /usr/lib/python3/dist-packages (from pandas) (2022.1)\r\n",
      "Requirement already satisfied: python-dateutil>=2.8.1 in /usr/local/lib/python3.10/dist-packages (from pandas) (2.8.2)\r\n",
      "Requirement already satisfied: six>=1.5 in /usr/lib/python3/dist-packages (from python-dateutil>=2.8.1->pandas) (1.16.0)\r\n",
      "Defaulting to user installation because normal site-packages is not writeable\r\n",
      "Requirement already satisfied: seaborn in /usr/local/lib/python3.10/dist-packages (0.12.0)\r\n",
      "Requirement already satisfied: numpy>=1.17 in /home/aiztim02/.local/lib/python3.10/site-packages (from seaborn) (1.23.4)\r\n",
      "Requirement already satisfied: matplotlib>=3.1 in /home/aiztim02/.local/lib/python3.10/site-packages (from seaborn) (3.6.1)\r\n",
      "Requirement already satisfied: pandas>=0.25 in /home/aiztim02/.local/lib/python3.10/site-packages (from seaborn) (1.5.0)\r\n",
      "Requirement already satisfied: fonttools>=4.22.0 in /home/aiztim02/.local/lib/python3.10/site-packages (from matplotlib>=3.1->seaborn) (4.37.4)\r\n",
      "Requirement already satisfied: pyparsing>=2.2.1 in /usr/lib/python3/dist-packages (from matplotlib>=3.1->seaborn) (2.4.7)\r\n",
      "Requirement already satisfied: python-dateutil>=2.7 in /usr/local/lib/python3.10/dist-packages (from matplotlib>=3.1->seaborn) (2.8.2)\r\n",
      "Requirement already satisfied: contourpy>=1.0.1 in /home/aiztim02/.local/lib/python3.10/site-packages (from matplotlib>=3.1->seaborn) (1.0.5)\r\n",
      "Requirement already satisfied: kiwisolver>=1.0.1 in /home/aiztim02/.local/lib/python3.10/site-packages (from matplotlib>=3.1->seaborn) (1.4.4)\r\n",
      "Requirement already satisfied: cycler>=0.10 in /home/aiztim02/.local/lib/python3.10/site-packages (from matplotlib>=3.1->seaborn) (0.11.0)\r\n",
      "Requirement already satisfied: pillow>=6.2.0 in /usr/lib/python3/dist-packages (from matplotlib>=3.1->seaborn) (9.0.1)\r\n",
      "Requirement already satisfied: packaging>=20.0 in /usr/local/lib/python3.10/dist-packages (from matplotlib>=3.1->seaborn) (21.3)\r\n",
      "Requirement already satisfied: pytz>=2020.1 in /usr/lib/python3/dist-packages (from pandas>=0.25->seaborn) (2022.1)\r\n",
      "Requirement already satisfied: six>=1.5 in /usr/lib/python3/dist-packages (from python-dateutil>=2.7->matplotlib>=3.1->seaborn) (1.16.0)\r\n",
      "Defaulting to user installation because normal site-packages is not writeable\r\n",
      "Requirement already satisfied: sklearn in /usr/local/lib/python3.10/dist-packages (0.0)\r\n",
      "Requirement already satisfied: scikit-learn in /usr/local/lib/python3.10/dist-packages (from sklearn) (1.1.2)\r\n",
      "Requirement already satisfied: numpy>=1.17.3 in /home/aiztim02/.local/lib/python3.10/site-packages (from scikit-learn->sklearn) (1.23.4)\r\n",
      "Requirement already satisfied: scipy>=1.3.2 in /usr/local/lib/python3.10/dist-packages (from scikit-learn->sklearn) (1.9.2)\r\n",
      "Requirement already satisfied: joblib>=1.0.0 in /usr/local/lib/python3.10/dist-packages (from scikit-learn->sklearn) (1.2.0)\r\n",
      "Requirement already satisfied: threadpoolctl>=2.0.0 in /usr/local/lib/python3.10/dist-packages (from scikit-learn->sklearn) (3.1.0)\r\n"
     ]
    }
   ],
   "source": [
    "!pip install matplotlib\n",
    "!pip install pandas\n",
    "!pip install seaborn\n",
    "!pip install sklearn"
   ],
   "metadata": {
    "collapsed": false
   }
  },
  {
   "cell_type": "markdown",
   "metadata": {},
   "source": [
    "---\n",
    "## Variables and Datatypes\n",
    "Python has different data types, here is the most common ones\n",
    "\n",
    "| Data Types   | Examples            | Explanation          | Mutable? |\n",
    "| ------------ | ------------------- | -------------------- | -------- |\n",
    "| Strings      | \"Hi!\", '1.3'        | Text                 | No       |\n",
    "| Integers     | 49                  | Whole numbers        | No       |\n",
    "| Floats       | 3.14                | Decimal Numbers      | No       |\n",
    "| Booleans     | True, False         | Truth values         | No       |\n",
    "| Lists        | \\[1, 'a', [1.5, 2]\\]| A collection of data | Yes      |\n",
    "| Tuples       | (1, 2, 3, 4, 5)     | A collection of data | Yes      |\n",
    "| Dictionaries | {\"a\": 1, \"b\": True} | A collection of data | Yes      |"
   ]
  },
  {
   "cell_type": "code",
   "execution_count": 560,
   "metadata": {},
   "outputs": [
    {
     "name": "stdout",
     "output_type": "stream",
     "text": [
      "Student: Anna got A\n",
      "Variables data types\n",
      "var_1 <class 'str'>\n",
      "var_2 <class 'int'>\n",
      "var_3 <class 'float'>\n",
      "var_4 <class 'list'>\n",
      "var_5 <class 'dict'>\n"
     ]
    }
   ],
   "source": [
    "# Assigning data to variables\n",
    "var_1 = \"Hello World\"\n",
    "var_2 = 254\n",
    "var_3 = 25.43\n",
    "var_4 = [\"Anna\", \"Bella\", \"Cora\"]\n",
    "var_5 = {'Course': 'ML', 'Grade': 'A'} # key: value\n",
    "\n",
    "# You can access List elements with their index\n",
    "# and access Dict elements with their key\n",
    "print('Student:', var_4[0], 'got', var_5['Grade'])\n",
    "\n",
    "# When in doubt you can always check data types\n",
    "print('Variables data types')\n",
    "print('var_1', type(var_1))\n",
    "print('var_2', type(var_2))\n",
    "print('var_3', type(var_3))\n",
    "print('var_4', type(var_4))\n",
    "print('var_5', type(var_5))"
   ]
  },
  {
   "cell_type": "markdown",
   "metadata": {},
   "source": [
    "Using list and tuple"
   ]
  },
  {
   "cell_type": "code",
   "execution_count": 561,
   "metadata": {},
   "outputs": [
    {
     "name": "stdout",
     "output_type": "stream",
     "text": [
      "[2, 2, 3] [2, 2, 3]\n"
     ]
    }
   ],
   "source": [
    "x = [1, 2, 3]  # creating a list\n",
    "y = x  # assigning a reference\n",
    "y[0] += 1\n",
    "# The change is in both x and y because both point to the same object\n",
    "print(x, y)"
   ]
  },
  {
   "cell_type": "code",
   "execution_count": 562,
   "metadata": {},
   "outputs": [
    {
     "name": "stdout",
     "output_type": "stream",
     "text": [
      "(1, 2, 3) (1, 2, 3, 4, 5)\n"
     ]
    }
   ],
   "source": [
    "x = (1, 2, 3)  # creating a tuple\n",
    "y = x\n",
    "# y[0] += 1 gives error because it's immutable\n",
    "y += (4, 5)  # a new tuple is generated to\n",
    "print(x, y)"
   ]
  },
  {
   "cell_type": "code",
   "execution_count": 563,
   "metadata": {
    "collapsed": false,
    "jupyter": {
     "outputs_hidden": false
    }
   },
   "outputs": [
    {
     "name": "stdout",
     "output_type": "stream",
     "text": [
      "x size: 10\n",
      "The second element in x: 2\n",
      "The last element in x: 10\n",
      "The first 3 elements in x: [1, 2, 3]\n"
     ]
    }
   ],
   "source": [
    "x = [1, 2, 3, 4, 5, 6, 7, 8, 9, 10]\n",
    "print('x size:', len(x))\n",
    "print('The second element in x:', x[1])\n",
    "print('The last element in x:', x[-1])\n",
    "print('The first 3 elements in x:', x[:3])  # also x[0: 3] works"
   ]
  },
  {
   "cell_type": "markdown",
   "metadata": {},
   "source": [
    "### Task 1:\n",
    "Print the last 3 elements of x"
   ]
  },
  {
   "cell_type": "code",
   "execution_count": 564,
   "metadata": {
    "collapsed": false,
    "jupyter": {
     "outputs_hidden": false
    }
   },
   "outputs": [],
   "source": [
    "# Solve here"
   ]
  },
  {
   "cell_type": "markdown",
   "metadata": {},
   "source": [
    "## Operators\n",
    "[Reference](https://www.geeksforgeeks.org/python-operators/)\n",
    "\n",
    "When dealing with data, knowing python operators and how they work can make\n",
    "your code smaller and more efficient.\n",
    "\n",
    "We will look at the operator that might be new to you.\n",
    "Refer to this [reference](https://www.geeksforgeeks.org/python-operators/)\n",
    "for all the operations.\n",
    "\n",
    "| Operator | Description                                               | Syntax        |\n",
    "| -------- | --------------------------------------------------------- | ------------- |\n",
    "| //       | Division (floor): divides the first operand by the second | x//y          |\n",
    "| **       | Power: Returns first raised to power second               | x**y          |\n",
    "| is       | True if the operands are identical                        | x**y          |\n",
    "| is not   | True if the operands are not identical                    | x**y          |\n",
    "| in       | True if value is found in the sequence                    | x**y          |\n",
    "| not in   | True if value is not found in the sequence                | x**y          |\n",
    "| Ternary  | testing a condition in a single line                      | x if a else y |"
   ]
  },
  {
   "cell_type": "code",
   "execution_count": 565,
   "metadata": {},
   "outputs": [
    {
     "name": "stdout",
     "output_type": "stream",
     "text": [
      "3.3333333333333335 3\n"
     ]
    }
   ],
   "source": [
    "# //\tDivision (floor): divides and floor the output\n",
    "a = 10\n",
    "b = 3\n",
    "div = a / b\n",
    "div_floor = a // b\n",
    "\n",
    "print(div, div_floor)"
   ]
  },
  {
   "cell_type": "code",
   "execution_count": 566,
   "metadata": {},
   "outputs": [
    {
     "name": "stdout",
     "output_type": "stream",
     "text": [
      "2\n",
      "-3\n"
     ]
    }
   ],
   "source": [
    "# negative division could be counter intuitive\n",
    "print (5//2)\n",
    "print (-5//2) # floor(-2.333) gives the integer smaller -> -3\n"
   ]
  },
  {
   "cell_type": "code",
   "execution_count": 567,
   "metadata": {
    "collapsed": false,
    "jupyter": {
     "outputs_hidden": false
    }
   },
   "outputs": [
    {
     "name": "stdout",
     "output_type": "stream",
     "text": [
      "1000\n"
     ]
    }
   ],
   "source": [
    "# Power\n",
    "pwr = a ** b\n",
    "print(pwr)"
   ]
  },
  {
   "cell_type": "code",
   "execution_count": 568,
   "metadata": {
    "collapsed": false,
    "jupyter": {
     "outputs_hidden": false
    }
   },
   "outputs": [
    {
     "name": "stdout",
     "output_type": "stream",
     "text": [
      "True\n",
      "True\n"
     ]
    }
   ],
   "source": [
    "# is, is not\n",
    "c = a\n",
    "print(a is not b)\n",
    "print(a is c)"
   ]
  },
  {
   "cell_type": "code",
   "execution_count": 569,
   "metadata": {
    "collapsed": false,
    "jupyter": {
     "outputs_hidden": false
    }
   },
   "outputs": [
    {
     "name": "stdout",
     "output_type": "stream",
     "text": [
      "True\n",
      "True\n"
     ]
    }
   ],
   "source": [
    "# in, not in\n",
    "x, y = 24, 20\n",
    "l = [10, 20, 30, 40, 50]\n",
    "\n",
    "print(x not in l)\n",
    "print(y in l)\n"
   ]
  },
  {
   "cell_type": "code",
   "execution_count": 570,
   "metadata": {
    "collapsed": false,
    "jupyter": {
     "outputs_hidden": false
    }
   },
   "outputs": [
    {
     "name": "stdout",
     "output_type": "stream",
     "text": [
      "3\n",
      "3\n"
     ]
    }
   ],
   "source": [
    "# Ternary operator\n",
    "if a < b:\n",
    "    print(a)\n",
    "else:\n",
    "    print(b)\n",
    "\n",
    "# [on_true] if [expression] else [on_false]\n",
    "minimum = a if a < b else b\n",
    "print(minimum)"
   ]
  },
  {
   "cell_type": "markdown",
   "metadata": {},
   "source": [
    "## Iteration\n",
    "The 2 main loops in python are `while` and `for` loops\n",
    "\n",
    "[Reference](https://www.geeksforgeeks.org/loops-in-python/)"
   ]
  },
  {
   "cell_type": "code",
   "execution_count": 571,
   "metadata": {
    "collapsed": false,
    "jupyter": {
     "outputs_hidden": false
    }
   },
   "outputs": [
    {
     "name": "stdout",
     "output_type": "stream",
     "text": [
      "count =  1\n",
      "count =  2\n",
      "count =  3\n"
     ]
    }
   ],
   "source": [
    "# While loop\n",
    "count = 0\n",
    "while count < 3:\n",
    "    count = count + 1\n",
    "    print(\"count = \", count)"
   ]
  },
  {
   "cell_type": "code",
   "execution_count": 572,
   "metadata": {
    "collapsed": false,
    "jupyter": {
     "outputs_hidden": false
    }
   },
   "outputs": [
    {
     "name": "stdout",
     "output_type": "stream",
     "text": [
      "count =  1\n",
      "count =  2\n",
      "count =  3\n",
      "In the else. count =  3\n"
     ]
    }
   ],
   "source": [
    "# Combining else with while to execute something after the loop\n",
    "count = 0\n",
    "while count < 3:\n",
    "    count = count + 1\n",
    "    print(\"count = \", count)\n",
    "else:\n",
    "    print(\"In the else. count = \", count)"
   ]
  },
  {
   "cell_type": "markdown",
   "metadata": {},
   "source": [
    "[`range()`](https://docs.python.org/3/library/functions.html#func-range) is\n",
    "a built-in generator function that is used to generate numbers in a given range.\n",
    "\n",
    "It takes up to 3 parameter `start`, `stop`, `step`.\n",
    "If not given,`start` defaults to `0`, and `step` to `1`.\n",
    "\n",
    "Examples:\n",
    "- `range(0, 10, 1)` -> `[0, 1, 2, ..., 9]`. note that `stop` isn't included.\n",
    "- `range(0, 10, 2)` -> `[0, 2, 4, 6, 8]`. even numbers.\n",
    "- `range(0, 10)` -> Only `start` and `stop`. same as `range(0, 10, 1)`.\n",
    "- `range(10)` -> Only `stop`. same as `range(0, 10, 1)`.\n",
    "- `range(10, 0, -1)` -> `[10, 9, 8, ..., 1]`."
   ]
  },
  {
   "cell_type": "code",
   "execution_count": 573,
   "metadata": {
    "collapsed": false,
    "jupyter": {
     "outputs_hidden": false
    }
   },
   "outputs": [
    {
     "name": "stdout",
     "output_type": "stream",
     "text": [
      "looping over list elements by index using \"rang()\"\n",
      "10\n",
      "20\n",
      "30\n",
      "40\n",
      "looping over list elements using \"in\"\n",
      "10\n",
      "20\n",
      "30\n",
      "40\n"
     ]
    }
   ],
   "source": [
    "# range for loop\n",
    "my_list = [10, 20, 30, 40]\n",
    "print('looping over list elements by index using \"rang()\"')\n",
    "for i in range(0, len(my_list)):\n",
    "    print(my_list[i])\n",
    "\n",
    "print('looping over list elements using \"in\"')\n",
    "for element in my_list:\n",
    "    print(element)"
   ]
  },
  {
   "cell_type": "code",
   "execution_count": 574,
   "metadata": {
    "collapsed": false,
    "jupyter": {
     "outputs_hidden": false
    }
   },
   "outputs": [
    {
     "name": "stdout",
     "output_type": "stream",
     "text": [
      "looping over list elements by index using \"rang()\"\n",
      "10\n",
      "30\n",
      "50\n"
     ]
    }
   ],
   "source": [
    "my_list = [10, 20, 30, 40, 50, 60, 70, 80]\n",
    "print('looping over list elements by index using \"rang()\"')\n",
    "for i in range(0, len(my_list)):\n",
    "    if i == 5:  # break the loop after 5 iterations\n",
    "        break\n",
    "    elif i%2 == 1:  # skipping odd indices\n",
    "        continue\n",
    "    print(my_list[i])"
   ]
  },
  {
   "cell_type": "markdown",
   "metadata": {},
   "source": [
    "### Task 2:\n",
    "Make a list that have all the integers from 0 to 99 that is divisible by 4 but\n",
    "not divisible by 6.\n",
    "\n",
    "Hint: `my_list.append(a)` add `a` to the end of the `my_list`."
   ]
  },
  {
   "cell_type": "code",
   "execution_count": 575,
   "metadata": {
    "collapsed": false,
    "jupyter": {
     "outputs_hidden": false
    }
   },
   "outputs": [
    {
     "data": {
      "text/plain": "[0,\n 1,\n 2,\n 3,\n 4,\n 5,\n 6,\n 7,\n 8,\n 9,\n 10,\n 11,\n 12,\n 13,\n 14,\n 15,\n 16,\n 17,\n 18,\n 19,\n 20,\n 21,\n 22,\n 23,\n 24,\n 25,\n 26,\n 27,\n 28,\n 29,\n 30,\n 31,\n 32,\n 33,\n 34,\n 35,\n 36,\n 37,\n 38,\n 39,\n 40,\n 41,\n 42,\n 43,\n 44,\n 45,\n 46,\n 47,\n 48,\n 49,\n 50,\n 51,\n 52,\n 53,\n 54,\n 55,\n 56,\n 57,\n 58,\n 59,\n 60,\n 61,\n 62,\n 63,\n 64,\n 65,\n 66,\n 67,\n 68,\n 69,\n 70,\n 71,\n 72,\n 73,\n 74,\n 75,\n 76,\n 77,\n 78,\n 79,\n 80,\n 81,\n 82,\n 83,\n 84,\n 85,\n 86,\n 87,\n 88,\n 89,\n 90,\n 91,\n 92,\n 93,\n 94,\n 95,\n 96,\n 97,\n 98,\n 99]"
     },
     "execution_count": 575,
     "metadata": {},
     "output_type": "execute_result"
    }
   ],
   "source": [
    "# Solve here\n",
    "my_list = [i for i in range(100)]\n",
    "my_list"
   ]
  },
  {
   "cell_type": "markdown",
   "metadata": {},
   "source": [
    "## Functions\n",
    "Functions is very useful to use a block of code multiple time."
   ]
  },
  {
   "cell_type": "code",
   "execution_count": 576,
   "metadata": {
    "collapsed": false,
    "jupyter": {
     "outputs_hidden": false
    }
   },
   "outputs": [
    {
     "name": "stdout",
     "output_type": "stream",
     "text": [
      "Hi from a function\n",
      "Hi from a function\n"
     ]
    }
   ],
   "source": [
    "def my_function_name():\n",
    "    print('Hi from a function')\n",
    "\n",
    "my_function_name()\n",
    "my_function_name()"
   ]
  },
  {
   "cell_type": "code",
   "execution_count": 577,
   "metadata": {
    "collapsed": false,
    "jupyter": {
     "outputs_hidden": false
    }
   },
   "outputs": [
    {
     "name": "stdout",
     "output_type": "stream",
     "text": [
      "6\n"
     ]
    }
   ],
   "source": [
    "def double(x):\n",
    "    return x * 2\n",
    "\n",
    "print(double(3))"
   ]
  },
  {
   "cell_type": "markdown",
   "metadata": {},
   "source": [
    "## Classes\n",
    "Python is OOP langauge. Here are how classes are used\n",
    "\n",
    "[Reference](https://www.geeksforgeeks.org/python-classes-and-objects/)"
   ]
  },
  {
   "cell_type": "code",
   "execution_count": 578,
   "metadata": {
    "collapsed": false,
    "jupyter": {
     "outputs_hidden": false
    }
   },
   "outputs": [
    {
     "name": "stdout",
     "output_type": "stream",
     "text": [
      "mammal\n",
      "I'm a mammal\n",
      "I'm a dog\n"
     ]
    }
   ],
   "source": [
    "class Dog:\n",
    "\n",
    "    # A simple class\n",
    "    # attribute\n",
    "    attr1 = \"mammal\"\n",
    "    attr2 = \"dog\"\n",
    "\n",
    "    # A sample method\n",
    "    def fun(self):\n",
    "        print(\"I'm a\", self.attr1)\n",
    "        print(\"I'm a\", self.attr2)\n",
    "\n",
    "# Object instantiation\n",
    "Rodger = Dog()\n",
    "\n",
    "# Accessing class attributes\n",
    "# and method through objects\n",
    "print(Rodger.attr1)\n",
    "Rodger.fun()"
   ]
  },
  {
   "cell_type": "markdown",
   "metadata": {},
   "source": [
    "---\n",
    "## Install external modules\n",
    "Python community offers a huge variety of modules to eliminate the need for\n",
    "writing codes from scratch.\n",
    "[pip](https://pypi.org/project/pip/) is a package installer for Python. You\n",
    "can use pip to install packages from the Python Package Index and other indexes.\n",
    "\n",
    "To install a package you can run this command in your terminal:\n",
    "- Unix/macOS: `python3 -m pip install <package name>` or `pip3 install <package name>`\n",
    "- Windows: `py -m pip install <package name>` or `pip install <package name>`\n",
    "\n",
    "[Further reading](https://pip.pypa.io/en/stable/cli/pip_install/)\n",
    "on pip usage and how to write and install requirements files.\n",
    "\n",
    "You can also run terminal command from your jupyter notebook using\n",
    "[magic commands](https://ipython.readthedocs.io/en/stable/interactive/magics.html)\n",
    "\n",
    "To do so, you put `!` before your command so that jupyter understand executing\n",
    "it in the terminal."
   ]
  },
  {
   "cell_type": "code",
   "execution_count": 579,
   "metadata": {
    "collapsed": false,
    "jupyter": {
     "outputs_hidden": false
    }
   },
   "outputs": [
    {
     "name": "stdout",
     "output_type": "stream",
     "text": [
      "Defaulting to user installation because normal site-packages is not writeable\r\n",
      "Requirement already satisfied: numpy in /home/aiztim02/.local/lib/python3.10/site-packages (1.23.4)\r\n"
     ]
    }
   ],
   "source": [
    "# https://ipython.readthedocs.io/en/stable/interactive/magics.html#magic-sx\n",
    "!pip install numpy"
   ]
  },
  {
   "cell_type": "markdown",
   "metadata": {
    "collapsed": false,
    "jupyter": {
     "outputs_hidden": false
    }
   },
   "source": [
    "---\n",
    "## Numpy\n",
    "While python is a powerful, it is very slow compared to C/C++ since it's and\n",
    "interpreted language with dynamic typing. Numpy is python library that is\n",
    "implemented in C/C++. giving us the ease of development of python with the\n",
    "performance of C. depending on the operation numpy could be up to 100x faster.\n",
    "Moreover, it has various functions to perform linear algebra and array operations.\n",
    "\n",
    "[Reference](https://numpy.org/doc/stable/user/absolute_beginners.html)"
   ]
  },
  {
   "cell_type": "code",
   "metadata": {},
   "source": [
    "import numpy as np"
   ],
   "execution_count": 580,
   "outputs": []
  },
  {
   "cell_type": "code",
   "execution_count": 581,
   "metadata": {
    "collapsed": false,
    "jupyter": {
     "outputs_hidden": false
    }
   },
   "outputs": [
    {
     "name": "stdout",
     "output_type": "stream",
     "text": [
      "[-81 -64  47 -38 -25 -50  -2 -51 -74  14  76 -25 -82  96  21  47 -61 -47\n",
      "  62  97]\n"
     ]
    }
   ],
   "source": [
    "my_np_list = np.random.randint(low=-100, high=100, size=20)\n",
    "print(my_np_list)"
   ]
  },
  {
   "cell_type": "markdown",
   "metadata": {},
   "source": [
    "Here is some of the most common used function"
   ]
  },
  {
   "cell_type": "code",
   "execution_count": 582,
   "metadata": {
    "collapsed": false,
    "jupyter": {
     "outputs_hidden": false
    }
   },
   "outputs": [
    {
     "name": "stdout",
     "output_type": "stream",
     "text": [
      "shape: (20,)\n",
      "sum: -140\n",
      "min: -82\n",
      "max: 97\n",
      "abs: [81 64 47 38 25 50  2 51 74 14 76 25 82 96 21 47 61 47 62 97]\n",
      "after .sort(): [-82 -81 -74 -64 -61 -51 -50 -47 -38 -25 -25  -2  14  21  47  47  62  76\n",
      "  96  97]\n",
      "doubling the array [-164 -162 -148 -128 -122 -102 -100  -94  -76  -50  -50   -4   28   42\n",
      "   94   94  124  152  192  194]\n"
     ]
    }
   ],
   "source": [
    "print('shape:', my_np_list.shape)\n",
    "print('sum:', my_np_list.sum())\n",
    "print('min:', my_np_list.min())\n",
    "print('max:', my_np_list.max())\n",
    "print('abs:', np.abs(my_np_list))\n",
    "my_np_list.sort()\n",
    "print('after .sort():', my_np_list)\n",
    "print('doubling the array', my_np_list * 2) # broadcasting"
   ]
  },
  {
   "cell_type": "markdown",
   "metadata": {
    "collapsed": false,
    "jupyter": {
     "outputs_hidden": false
    }
   },
   "source": [
    "### Task 3:\n",
    "Print the mean, variance and standard deviation of `my_np_list`"
   ]
  },
  {
   "cell_type": "code",
   "execution_count": 583,
   "metadata": {
    "collapsed": false,
    "jupyter": {
     "outputs_hidden": false
    }
   },
   "outputs": [
    {
     "name": "stdout",
     "output_type": "stream",
     "text": [
      "Mean: -7.0\n",
      "Variance: 3445.3\n",
      "STD: 58.6966779298454\n"
     ]
    }
   ],
   "source": [
    "# Solve here\n",
    "print(f'Mean: {my_np_list.mean()}')\n",
    "print(f'Variance: {my_np_list.var()}')\n",
    "print(f'STD: {my_np_list.std()}')"
   ]
  },
  {
   "cell_type": "code",
   "metadata": {},
   "source": [
    "# 2D arrays\n",
    "x = np.array(\n",
    "    [\n",
    "        [1, 2, 3, 4],\n",
    "        [5, 6, 7, 8],\n",
    "        [9, 10, 11, 12],\n",
    "    ],\n",
    "    np.int32,\n",
    ")\n",
    "print(x)\n",
    "print(f'{x.shape = }')\n",
    "print('accessing element:', x[1, 2])\n",
    "print('slice of an array:', x[0:2, 2:3])\n",
    "print('row:', x[0, :])\n",
    "print('column:', x[:, 0])"
   ],
   "execution_count": 584,
   "outputs": [
    {
     "name": "stdout",
     "output_type": "stream",
     "text": [
      "[[ 1  2  3  4]\n",
      " [ 5  6  7  8]\n",
      " [ 9 10 11 12]]\n",
      "x.shape = (3, 4)\n",
      "accessing element: 7\n",
      "slice of an array: [[3]\n",
      " [7]]\n",
      "row: [1 2 3 4]\n",
      "column: [1 5 9]\n"
     ]
    }
   ]
  },
  {
   "cell_type": "code",
   "execution_count": 585,
   "metadata": {
    "collapsed": false,
    "jupyter": {
     "outputs_hidden": false
    }
   },
   "outputs": [
    {
     "name": "stdout",
     "output_type": "stream",
     "text": [
      "numpy is 3.9819302831790204  times faster than list\n"
     ]
    }
   ],
   "source": [
    "# speed\n",
    "from time import time\n",
    "\n",
    "st = time()\n",
    "my_list = [1] * 10000000\n",
    "sum(my_list)\n",
    "list_time = time()-st\n",
    "\n",
    "st = time()\n",
    "my_np_list = np.ones(10000000)\n",
    "my_np_list.sum()\n",
    "np_time = time()-st\n",
    "\n",
    "print('numpy is', list_time/np_time, ' times faster than list')"
   ]
  },
  {
   "cell_type": "markdown",
   "metadata": {
    "collapsed": false,
    "jupyter": {
     "outputs_hidden": false
    }
   },
   "source": [
    "### Task 4\n",
    "Install the following packages: `matplotlib`, `pandas`, `seaborn` and `sklearn`"
   ]
  },
  {
   "cell_type": "markdown",
   "source": [
    "# Solve here\n",
    "Installed above"
   ],
   "metadata": {
    "collapsed": false
   }
  },
  {
   "cell_type": "markdown",
   "metadata": {},
   "source": [
    "---\n",
    "## Matplotlib\n",
    "Matplotlib is a comprehensive library for creating static, animated, and\n",
    "interactive visualizations in Python.\n",
    "\n",
    "[Reference](https://matplotlib.org/stable/tutorials/introductory/pyplot.html#sphx-glr-tutorials-introductory-pyplot-py)"
   ]
  },
  {
   "cell_type": "code",
   "execution_count": 586,
   "metadata": {
    "collapsed": false,
    "jupyter": {
     "outputs_hidden": false
    }
   },
   "outputs": [
    {
     "name": "stderr",
     "output_type": "stream",
     "text": [
      "UsageError: unrecognized arguments: # to plot in side the notebook\n"
     ]
    }
   ],
   "source": [
    "import matplotlib.pyplot as plt\n",
    "%matplotlib inline # to plot in side the notebook"
   ]
  },
  {
   "cell_type": "code",
   "execution_count": null,
   "metadata": {
    "collapsed": false,
    "jupyter": {
     "outputs_hidden": false
    }
   },
   "outputs": [],
   "source": [
    "# Line plot\n",
    "t = np.arange(0.0, 2.0, 0.01)\n",
    "s = 1 + np.sin(2 * np.pi * t)\n",
    "\n",
    "fig, ax = plt.subplots()\n",
    "ax.plot(t, s)\n",
    "\n",
    "ax.set(xlabel='Hours studied (s)', ylabel='voltage (mV)',\n",
    "       title='Change in volt over time')\n",
    "ax.grid()\n",
    "plt.show() # Show the plot"
   ]
  },
  {
   "cell_type": "code",
   "execution_count": null,
   "metadata": {
    "collapsed": false,
    "jupyter": {
     "outputs_hidden": false
    }
   },
   "outputs": [],
   "source": [
    "# different plots for categorical data\n",
    "names = ['group_a', 'group_b', 'group_c']\n",
    "values = [1, 10, 100]\n",
    "\n",
    "plt.figure(figsize=(9, 5))\n",
    "\n",
    "plt.subplot(131)  # To creat 1 by 3 grid and plot in the 1st subplot\n",
    "plt.bar(names, values)\n",
    "plt.subplot(132)  # plot in the 2nd subplot\n",
    "plt.scatter(names, values)\n",
    "plt.subplot(133)  # plot in the 3nd subplot\n",
    "plt.plot(names, values)\n",
    "plt.suptitle('Categorical Plotting')\n",
    "plt.show()"
   ]
  },
  {
   "cell_type": "markdown",
   "metadata": {
    "collapsed": false,
    "jupyter": {
     "outputs_hidden": false
    }
   },
   "source": [
    "---\n",
    "## Pandas\n",
    "[Pandas](https://pandas.pydata.org/docs/) is a fast, powerful, flexible and\n",
    "easy to use open source data analysis and manipulation tool.\n"
   ]
  },
  {
   "cell_type": "code",
   "execution_count": null,
   "metadata": {
    "collapsed": false,
    "jupyter": {
     "outputs_hidden": false
    }
   },
   "outputs": [],
   "source": [
    "import pandas as pd\n"
   ]
  },
  {
   "cell_type": "code",
   "execution_count": null,
   "metadata": {
    "collapsed": false,
    "jupyter": {
     "outputs_hidden": false
    }
   },
   "outputs": [],
   "source": [
    "df = pd.read_csv('petrol_consumption.csv')\n",
    "df.info()"
   ]
  },
  {
   "cell_type": "code",
   "execution_count": null,
   "metadata": {
    "collapsed": false,
    "jupyter": {
     "outputs_hidden": false
    }
   },
   "outputs": [],
   "source": [
    "df.head(5)"
   ]
  },
  {
   "cell_type": "code",
   "execution_count": null,
   "metadata": {
    "collapsed": false,
    "jupyter": {
     "outputs_hidden": false
    }
   },
   "outputs": [],
   "source": [
    "df.describe()\n"
   ]
  },
  {
   "cell_type": "code",
   "execution_count": null,
   "metadata": {
    "collapsed": false,
    "jupyter": {
     "outputs_hidden": false
    }
   },
   "outputs": [],
   "source": [
    "# access a columns\n",
    "print(df['Petrol_tax'].head())\n",
    "print(df[['Average_income', 'Paved_Highways']].head())"
   ]
  },
  {
   "cell_type": "code",
   "metadata": {},
   "source": [
    "# access a rows\n",
    "df.iloc[[1, 2, 4]]"
   ],
   "execution_count": null,
   "outputs": []
  },
  {
   "cell_type": "code",
   "execution_count": null,
   "metadata": {
    "collapsed": false,
    "jupyter": {
     "outputs_hidden": false
    }
   },
   "outputs": [],
   "source": [
    "# dropping a column\n",
    "new_df = df.drop(['Average_income', 'Paved_Highways'], axis=1)\n",
    "new_df.head()"
   ]
  },
  {
   "cell_type": "code",
   "metadata": {},
   "source": [
    "# Drop a row by index\n",
    "new_df = df.drop([0, 1])\n",
    "new_df.head()"
   ],
   "execution_count": null,
   "outputs": []
  },
  {
   "cell_type": "code",
   "execution_count": null,
   "metadata": {
    "collapsed": false,
    "jupyter": {
     "outputs_hidden": false
    }
   },
   "outputs": [],
   "source": [
    "# pandas support many operations similar to numpy\n",
    "print('Sum of columns\\n', df.sum(), '\\n')\n",
    "print('Sum of all the data frame\\n', df.sum().sum(), '\\n')\n",
    "print('Mean of columns\\n', df.mean(), '\\n')\n",
    "print('Converting dataframe to numpy array\\n', type(df.to_numpy()))"
   ]
  },
  {
   "cell_type": "markdown",
   "metadata": {},
   "source": [
    "---\n",
    "## Seaborn\n",
    "Seaborn is a Python data visualization library based on matplotlib. It provides\n",
    "a high-level interface for drawing attractive and informative statistical graphics.\n",
    "Usually used with pandas.\n",
    "\n",
    "[Reference](https://seaborn.pydata.org/examples/index.html)\n",
    "[Examples](https://www.geeksforgeeks.org/python-seaborn-tutorial/)"
   ]
  },
  {
   "cell_type": "code",
   "execution_count": null,
   "metadata": {
    "collapsed": false,
    "jupyter": {
     "outputs_hidden": false
    }
   },
   "outputs": [],
   "source": [
    "import seaborn as sns\n",
    "\n",
    "df = sns.load_dataset('tips')\n",
    "\n",
    "graph = sns.FacetGrid(df, col =\"sex\",  hue =\"day\")\n",
    "graph.map(plt.scatter, \"total_bill\", \"tip\", edgecolor =\"w\").add_legend()\n",
    "\n",
    "plt.show()"
   ]
  },
  {
   "cell_type": "markdown",
   "metadata": {},
   "source": [
    "---\n",
    "## SKLearn\n",
    "\n",
    "[SKLearn](https://scikit-learn.org/stable/modules/classes.html) is a simple\n",
    "and efficient tools for predictive data analysis.\n",
    "We will use it for classification, regression and clustering algorithms.\n",
    "\n",
    "Usually datasets have two parts, data(or features) and targets(or labels).\n",
    "We train our machine learning model to predict the target of a sample given\n",
    "its features."
   ]
  },
  {
   "cell_type": "code",
   "execution_count": null,
   "outputs": [],
   "source": [
    "# sklearn has some datasets inside it to learn and test on them\n",
    "from sklearn import datasets\n",
    "iris = datasets.load_iris()\n",
    "print(f'Dataset shape: {iris.data.shape = }, {iris.target.shape = }')\n",
    "print(f'Example of a sample: features: {iris.data[0]}, classification: {iris.target[0]}')"
   ],
   "metadata": {
    "collapsed": false
   }
  },
  {
   "cell_type": "markdown",
   "source": [
    "SKLearn gives a simple API to build models. Mainly it consists of two steps:\n",
    "- Model creation: where we choose the model and set its parameters\n",
    "- Fitting the data: Where we give our model the training data to learn from\n",
    "- Prediction: where we can predict the label of a sample\n",
    "\n",
    "`svm` is a prediction model(we will study how it works later in the course).\n",
    "\n",
    "Here is an example on how to use an SKLearn model:"
   ],
   "metadata": {
    "collapsed": false
   }
  },
  {
   "cell_type": "code",
   "execution_count": null,
   "outputs": [],
   "source": [
    "from sklearn import svm\n",
    "# setting the parameters needed by the algorithm\n",
    "clf = svm.SVC(gamma=0.001, C=100.)\n",
    "# Training on all the data except the last one\n",
    "clf.fit(iris.data[:-1], iris.target[:-1])\n",
    "# predicting the last sample\n",
    "print('Our prediction', clf.predict(iris.data[-1:]), 'True value:', iris.target[-1:])"
   ],
   "metadata": {
    "collapsed": false
   }
  },
  {
   "cell_type": "markdown",
   "source": [
    "---\n",
    "# Self-Practice\n",
    "Using the ires dataset used in the lap, plot each feature and the target data\n",
    "using matplotlib.\n",
    "Write your observation on the relationship between the target and each feature.\n",
    "What do you think is the most important features? Why?"
   ],
   "metadata": {
    "collapsed": false
   }
  },
  {
   "cell_type": "code",
   "execution_count": 587,
   "outputs": [
    {
     "data": {
      "text/plain": "(150, 4)"
     },
     "execution_count": 587,
     "metadata": {},
     "output_type": "execute_result"
    }
   ],
   "source": [
    "from sklearn import datasets\n",
    "iris_data = datasets.load_iris()\n",
    "target = iris_data.target\n",
    "iris_data.data.shape\n"
   ],
   "metadata": {
    "collapsed": false
   }
  },
  {
   "cell_type": "code",
   "execution_count": 588,
   "outputs": [
    {
     "data": {
      "text/plain": "<matplotlib.collections.PathCollection at 0x7fe73c117d60>"
     },
     "execution_count": 588,
     "metadata": {},
     "output_type": "execute_result"
    },
    {
     "data": {
      "text/plain": "<Figure size 640x480 with 1 Axes>",
      "image/png": "[encoded data removed]"
     },
     "metadata": {},
     "output_type": "display_data"
    }
   ],
   "source": [
    "# with first feature\n",
    "X = iris_data.data[:, :1]\n",
    "plt.scatter(X, target) # Show the plot\n"
   ],
   "metadata": {
    "collapsed": false
   }
  },
  {
   "cell_type": "code",
   "execution_count": 589,
   "outputs": [
    {
     "data": {
      "text/plain": "<matplotlib.collections.PathCollection at 0x7fe73c1ac6a0>"
     },
     "execution_count": 589,
     "metadata": {},
     "output_type": "execute_result"
    },
    {
     "data": {
      "text/plain": "<Figure size 640x480 with 1 Axes>",
      "image/png": "[encoded data removed]"
     },
     "metadata": {},
     "output_type": "display_data"
    }
   ],
   "source": [
    "# with second feature\n",
    "X = iris_data.data[:, 1:2]\n",
    "\n",
    "plt.scatter(X, target) # Show the plot"
   ],
   "metadata": {
    "collapsed": false
   }
  },
  {
   "cell_type": "code",
   "execution_count": 590,
   "outputs": [
    {
     "data": {
      "text/plain": "<matplotlib.collections.PathCollection at 0x7fe73c03e440>"
     },
     "execution_count": 590,
     "metadata": {},
     "output_type": "execute_result"
    },
    {
     "data": {
      "text/plain": "<Figure size 640x480 with 1 Axes>",
      "image/png": "[encoded data removed]"
     },
     "metadata": {},
     "output_type": "display_data"
    }
   ],
   "source": [
    "# with third feature\n",
    "X = iris_data.data[:, 2:3]\n",
    "\n",
    "plt.scatter(X, target) # Show the plot"
   ],
   "metadata": {
    "collapsed": false
   }
  },
  {
   "cell_type": "code",
   "execution_count": 591,
   "outputs": [
    {
     "data": {
      "text/plain": "<matplotlib.collections.PathCollection at 0x7fe73c0efca0>"
     },
     "execution_count": 591,
     "metadata": {},
     "output_type": "execute_result"
    },
    {
     "data": {
      "text/plain": "<Figure size 640x480 with 1 Axes>",
      "image/png": "[encoded data removed]"
     },
     "metadata": {},
     "output_type": "display_data"
    }
   ],
   "source": [
    "# with fourth feature\n",
    "X = iris_data.data[:, 3:]\n",
    "\n",
    "plt.scatter(X, target) # Show the plot"
   ],
   "metadata": {
    "collapsed": false
   }
  },
  {
   "cell_type": "raw",
   "source": [
    "Third seems like the most important feature because we see the dependancy third feature on target. If feature increase, then target will increase too. Same thing with fourth and first feature, but third feature has more specific borders and does not merges with other parts of the graph."
   ],
   "metadata": {
    "collapsed": false
   }
  },
  {
   "cell_type": "code",
   "execution_count": null,
   "outputs": [],
   "source": [],
   "metadata": {
    "collapsed": false
   }
  }
 ],
 "metadata": {
  "kernelspec": {
   "display_name": "Python 3",
   "language": "python",
   "name": "python3"
  },
  "language_info": {
   "codemirror_mode": {
    "name": "ipython",
    "version": 3
   },
   "file_extension": ".py",
   "mimetype": "text/x-python",
   "name": "python",
   "nbconvert_exporter": "python",
   "pygments_lexer": "ipython3",
   "version": "3.8.3"
  }
 },
 "nbformat": 4,
 "nbformat_minor": 4
}
